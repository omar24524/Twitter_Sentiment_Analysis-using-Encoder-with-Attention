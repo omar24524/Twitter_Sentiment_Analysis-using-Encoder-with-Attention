{
  "nbformat": 4,
  "nbformat_minor": 0,
  "metadata": {
    "colab": {
      "provenance": []
    },
    "kernelspec": {
      "name": "python3",
      "display_name": "Python 3"
    },
    "language_info": {
      "name": "python"
    }
  },
  "cells": [
    {
      "cell_type": "code",
      "execution_count": 79,
      "metadata": {
        "id": "o32eqDVsSaik"
      },
      "outputs": [],
      "source": [
        "import pandas as pd\n",
        "import numpy as np"
      ]
    },
    {
      "cell_type": "code",
      "source": [
        "df = pd.read_csv(r\"/content/twitter_training.csv\" ,\n",
        "                 header=None,\n",
        "                names=['number','source','label','text'])"
      ],
      "metadata": {
        "id": "ZX2tI245TBCn"
      },
      "execution_count": 80,
      "outputs": []
    },
    {
      "cell_type": "code",
      "source": [
        "df.shape"
      ],
      "metadata": {
        "colab": {
          "base_uri": "https://localhost:8080/"
        },
        "id": "3fBeeUmGUJTz",
        "outputId": "6556859f-4c14-486f-baaf-acbb3c9e9d99"
      },
      "execution_count": 81,
      "outputs": [
        {
          "output_type": "execute_result",
          "data": {
            "text/plain": [
              "(74682, 4)"
            ]
          },
          "metadata": {},
          "execution_count": 81
        }
      ]
    },
    {
      "cell_type": "code",
      "source": [
        "df.head()"
      ],
      "metadata": {
        "colab": {
          "base_uri": "https://localhost:8080/",
          "height": 206
        },
        "id": "ZdNzwDDGTBGQ",
        "outputId": "4587f220-2630-450a-9c83-357806d9abe5"
      },
      "execution_count": 82,
      "outputs": [
        {
          "output_type": "execute_result",
          "data": {
            "text/plain": [
              "   number       source     label  \\\n",
              "0    2401  Borderlands  Positive   \n",
              "1    2401  Borderlands  Positive   \n",
              "2    2401  Borderlands  Positive   \n",
              "3    2401  Borderlands  Positive   \n",
              "4    2401  Borderlands  Positive   \n",
              "\n",
              "                                                text  \n",
              "0  im getting on borderlands and i will murder yo...  \n",
              "1  I am coming to the borders and I will kill you...  \n",
              "2  im getting on borderlands and i will kill you ...  \n",
              "3  im coming on borderlands and i will murder you...  \n",
              "4  im getting on borderlands 2 and i will murder ...  "
            ],
            "text/html": [
              "\n",
              "  <div id=\"df-5ce32736-c962-4b92-bd43-d5c9b86add4e\" class=\"colab-df-container\">\n",
              "    <div>\n",
              "<style scoped>\n",
              "    .dataframe tbody tr th:only-of-type {\n",
              "        vertical-align: middle;\n",
              "    }\n",
              "\n",
              "    .dataframe tbody tr th {\n",
              "        vertical-align: top;\n",
              "    }\n",
              "\n",
              "    .dataframe thead th {\n",
              "        text-align: right;\n",
              "    }\n",
              "</style>\n",
              "<table border=\"1\" class=\"dataframe\">\n",
              "  <thead>\n",
              "    <tr style=\"text-align: right;\">\n",
              "      <th></th>\n",
              "      <th>number</th>\n",
              "      <th>source</th>\n",
              "      <th>label</th>\n",
              "      <th>text</th>\n",
              "    </tr>\n",
              "  </thead>\n",
              "  <tbody>\n",
              "    <tr>\n",
              "      <th>0</th>\n",
              "      <td>2401</td>\n",
              "      <td>Borderlands</td>\n",
              "      <td>Positive</td>\n",
              "      <td>im getting on borderlands and i will murder yo...</td>\n",
              "    </tr>\n",
              "    <tr>\n",
              "      <th>1</th>\n",
              "      <td>2401</td>\n",
              "      <td>Borderlands</td>\n",
              "      <td>Positive</td>\n",
              "      <td>I am coming to the borders and I will kill you...</td>\n",
              "    </tr>\n",
              "    <tr>\n",
              "      <th>2</th>\n",
              "      <td>2401</td>\n",
              "      <td>Borderlands</td>\n",
              "      <td>Positive</td>\n",
              "      <td>im getting on borderlands and i will kill you ...</td>\n",
              "    </tr>\n",
              "    <tr>\n",
              "      <th>3</th>\n",
              "      <td>2401</td>\n",
              "      <td>Borderlands</td>\n",
              "      <td>Positive</td>\n",
              "      <td>im coming on borderlands and i will murder you...</td>\n",
              "    </tr>\n",
              "    <tr>\n",
              "      <th>4</th>\n",
              "      <td>2401</td>\n",
              "      <td>Borderlands</td>\n",
              "      <td>Positive</td>\n",
              "      <td>im getting on borderlands 2 and i will murder ...</td>\n",
              "    </tr>\n",
              "  </tbody>\n",
              "</table>\n",
              "</div>\n",
              "    <div class=\"colab-df-buttons\">\n",
              "\n",
              "  <div class=\"colab-df-container\">\n",
              "    <button class=\"colab-df-convert\" onclick=\"convertToInteractive('df-5ce32736-c962-4b92-bd43-d5c9b86add4e')\"\n",
              "            title=\"Convert this dataframe to an interactive table.\"\n",
              "            style=\"display:none;\">\n",
              "\n",
              "  <svg xmlns=\"http://www.w3.org/2000/svg\" height=\"24px\" viewBox=\"0 -960 960 960\">\n",
              "    <path d=\"M120-120v-720h720v720H120Zm60-500h600v-160H180v160Zm220 220h160v-160H400v160Zm0 220h160v-160H400v160ZM180-400h160v-160H180v160Zm440 0h160v-160H620v160ZM180-180h160v-160H180v160Zm440 0h160v-160H620v160Z\"/>\n",
              "  </svg>\n",
              "    </button>\n",
              "\n",
              "  <style>\n",
              "    .colab-df-container {\n",
              "      display:flex;\n",
              "      gap: 12px;\n",
              "    }\n",
              "\n",
              "    .colab-df-convert {\n",
              "      background-color: #E8F0FE;\n",
              "      border: none;\n",
              "      border-radius: 50%;\n",
              "      cursor: pointer;\n",
              "      display: none;\n",
              "      fill: #1967D2;\n",
              "      height: 32px;\n",
              "      padding: 0 0 0 0;\n",
              "      width: 32px;\n",
              "    }\n",
              "\n",
              "    .colab-df-convert:hover {\n",
              "      background-color: #E2EBFA;\n",
              "      box-shadow: 0px 1px 2px rgba(60, 64, 67, 0.3), 0px 1px 3px 1px rgba(60, 64, 67, 0.15);\n",
              "      fill: #174EA6;\n",
              "    }\n",
              "\n",
              "    .colab-df-buttons div {\n",
              "      margin-bottom: 4px;\n",
              "    }\n",
              "\n",
              "    [theme=dark] .colab-df-convert {\n",
              "      background-color: #3B4455;\n",
              "      fill: #D2E3FC;\n",
              "    }\n",
              "\n",
              "    [theme=dark] .colab-df-convert:hover {\n",
              "      background-color: #434B5C;\n",
              "      box-shadow: 0px 1px 3px 1px rgba(0, 0, 0, 0.15);\n",
              "      filter: drop-shadow(0px 1px 2px rgba(0, 0, 0, 0.3));\n",
              "      fill: #FFFFFF;\n",
              "    }\n",
              "  </style>\n",
              "\n",
              "    <script>\n",
              "      const buttonEl =\n",
              "        document.querySelector('#df-5ce32736-c962-4b92-bd43-d5c9b86add4e button.colab-df-convert');\n",
              "      buttonEl.style.display =\n",
              "        google.colab.kernel.accessAllowed ? 'block' : 'none';\n",
              "\n",
              "      async function convertToInteractive(key) {\n",
              "        const element = document.querySelector('#df-5ce32736-c962-4b92-bd43-d5c9b86add4e');\n",
              "        const dataTable =\n",
              "          await google.colab.kernel.invokeFunction('convertToInteractive',\n",
              "                                                    [key], {});\n",
              "        if (!dataTable) return;\n",
              "\n",
              "        const docLinkHtml = 'Like what you see? Visit the ' +\n",
              "          '<a target=\"_blank\" href=https://colab.research.google.com/notebooks/data_table.ipynb>data table notebook</a>'\n",
              "          + ' to learn more about interactive tables.';\n",
              "        element.innerHTML = '';\n",
              "        dataTable['output_type'] = 'display_data';\n",
              "        await google.colab.output.renderOutput(dataTable, element);\n",
              "        const docLink = document.createElement('div');\n",
              "        docLink.innerHTML = docLinkHtml;\n",
              "        element.appendChild(docLink);\n",
              "      }\n",
              "    </script>\n",
              "  </div>\n",
              "\n",
              "\n",
              "    <div id=\"df-4c35e84f-a11e-46b2-bc38-c05c6632c7e6\">\n",
              "      <button class=\"colab-df-quickchart\" onclick=\"quickchart('df-4c35e84f-a11e-46b2-bc38-c05c6632c7e6')\"\n",
              "                title=\"Suggest charts\"\n",
              "                style=\"display:none;\">\n",
              "\n",
              "<svg xmlns=\"http://www.w3.org/2000/svg\" height=\"24px\"viewBox=\"0 0 24 24\"\n",
              "     width=\"24px\">\n",
              "    <g>\n",
              "        <path d=\"M19 3H5c-1.1 0-2 .9-2 2v14c0 1.1.9 2 2 2h14c1.1 0 2-.9 2-2V5c0-1.1-.9-2-2-2zM9 17H7v-7h2v7zm4 0h-2V7h2v10zm4 0h-2v-4h2v4z\"/>\n",
              "    </g>\n",
              "</svg>\n",
              "      </button>\n",
              "\n",
              "<style>\n",
              "  .colab-df-quickchart {\n",
              "      --bg-color: #E8F0FE;\n",
              "      --fill-color: #1967D2;\n",
              "      --hover-bg-color: #E2EBFA;\n",
              "      --hover-fill-color: #174EA6;\n",
              "      --disabled-fill-color: #AAA;\n",
              "      --disabled-bg-color: #DDD;\n",
              "  }\n",
              "\n",
              "  [theme=dark] .colab-df-quickchart {\n",
              "      --bg-color: #3B4455;\n",
              "      --fill-color: #D2E3FC;\n",
              "      --hover-bg-color: #434B5C;\n",
              "      --hover-fill-color: #FFFFFF;\n",
              "      --disabled-bg-color: #3B4455;\n",
              "      --disabled-fill-color: #666;\n",
              "  }\n",
              "\n",
              "  .colab-df-quickchart {\n",
              "    background-color: var(--bg-color);\n",
              "    border: none;\n",
              "    border-radius: 50%;\n",
              "    cursor: pointer;\n",
              "    display: none;\n",
              "    fill: var(--fill-color);\n",
              "    height: 32px;\n",
              "    padding: 0;\n",
              "    width: 32px;\n",
              "  }\n",
              "\n",
              "  .colab-df-quickchart:hover {\n",
              "    background-color: var(--hover-bg-color);\n",
              "    box-shadow: 0 1px 2px rgba(60, 64, 67, 0.3), 0 1px 3px 1px rgba(60, 64, 67, 0.15);\n",
              "    fill: var(--button-hover-fill-color);\n",
              "  }\n",
              "\n",
              "  .colab-df-quickchart-complete:disabled,\n",
              "  .colab-df-quickchart-complete:disabled:hover {\n",
              "    background-color: var(--disabled-bg-color);\n",
              "    fill: var(--disabled-fill-color);\n",
              "    box-shadow: none;\n",
              "  }\n",
              "\n",
              "  .colab-df-spinner {\n",
              "    border: 2px solid var(--fill-color);\n",
              "    border-color: transparent;\n",
              "    border-bottom-color: var(--fill-color);\n",
              "    animation:\n",
              "      spin 1s steps(1) infinite;\n",
              "  }\n",
              "\n",
              "  @keyframes spin {\n",
              "    0% {\n",
              "      border-color: transparent;\n",
              "      border-bottom-color: var(--fill-color);\n",
              "      border-left-color: var(--fill-color);\n",
              "    }\n",
              "    20% {\n",
              "      border-color: transparent;\n",
              "      border-left-color: var(--fill-color);\n",
              "      border-top-color: var(--fill-color);\n",
              "    }\n",
              "    30% {\n",
              "      border-color: transparent;\n",
              "      border-left-color: var(--fill-color);\n",
              "      border-top-color: var(--fill-color);\n",
              "      border-right-color: var(--fill-color);\n",
              "    }\n",
              "    40% {\n",
              "      border-color: transparent;\n",
              "      border-right-color: var(--fill-color);\n",
              "      border-top-color: var(--fill-color);\n",
              "    }\n",
              "    60% {\n",
              "      border-color: transparent;\n",
              "      border-right-color: var(--fill-color);\n",
              "    }\n",
              "    80% {\n",
              "      border-color: transparent;\n",
              "      border-right-color: var(--fill-color);\n",
              "      border-bottom-color: var(--fill-color);\n",
              "    }\n",
              "    90% {\n",
              "      border-color: transparent;\n",
              "      border-bottom-color: var(--fill-color);\n",
              "    }\n",
              "  }\n",
              "</style>\n",
              "\n",
              "      <script>\n",
              "        async function quickchart(key) {\n",
              "          const quickchartButtonEl =\n",
              "            document.querySelector('#' + key + ' button');\n",
              "          quickchartButtonEl.disabled = true;  // To prevent multiple clicks.\n",
              "          quickchartButtonEl.classList.add('colab-df-spinner');\n",
              "          try {\n",
              "            const charts = await google.colab.kernel.invokeFunction(\n",
              "                'suggestCharts', [key], {});\n",
              "          } catch (error) {\n",
              "            console.error('Error during call to suggestCharts:', error);\n",
              "          }\n",
              "          quickchartButtonEl.classList.remove('colab-df-spinner');\n",
              "          quickchartButtonEl.classList.add('colab-df-quickchart-complete');\n",
              "        }\n",
              "        (() => {\n",
              "          let quickchartButtonEl =\n",
              "            document.querySelector('#df-4c35e84f-a11e-46b2-bc38-c05c6632c7e6 button');\n",
              "          quickchartButtonEl.style.display =\n",
              "            google.colab.kernel.accessAllowed ? 'block' : 'none';\n",
              "        })();\n",
              "      </script>\n",
              "    </div>\n",
              "\n",
              "    </div>\n",
              "  </div>\n"
            ],
            "application/vnd.google.colaboratory.intrinsic+json": {
              "type": "dataframe",
              "variable_name": "df",
              "summary": "{\n  \"name\": \"df\",\n  \"rows\": 74682,\n  \"fields\": [\n    {\n      \"column\": \"number\",\n      \"properties\": {\n        \"dtype\": \"number\",\n        \"std\": 3740,\n        \"min\": 1,\n        \"max\": 13200,\n        \"num_unique_values\": 12447,\n        \"samples\": [\n          1616,\n          2660,\n          2335\n        ],\n        \"semantic_type\": \"\",\n        \"description\": \"\"\n      }\n    },\n    {\n      \"column\": \"source\",\n      \"properties\": {\n        \"dtype\": \"category\",\n        \"num_unique_values\": 32,\n        \"samples\": [\n          \"Cyberpunk2077\",\n          \"Microsoft\",\n          \"TomClancysRainbowSix\"\n        ],\n        \"semantic_type\": \"\",\n        \"description\": \"\"\n      }\n    },\n    {\n      \"column\": \"label\",\n      \"properties\": {\n        \"dtype\": \"category\",\n        \"num_unique_values\": 4,\n        \"samples\": [\n          \"Neutral\",\n          \"Irrelevant\",\n          \"Positive\"\n        ],\n        \"semantic_type\": \"\",\n        \"description\": \"\"\n      }\n    },\n    {\n      \"column\": \"text\",\n      \"properties\": {\n        \"dtype\": \"string\",\n        \"num_unique_values\": 69491,\n        \"samples\": [\n          \"Thanks to @ Kain0025 for the raid. Thanks to @ gamingstreams and @ velonese002 for the bitts! And thanks to @ ColTrysTohete for hanging out and hanging out!. I hope to continue streaming regularly.. watch the w / @ Cohtstreams _ coming live!\",\n          \"How not to get bored about every damn thing in life.\",\n          \"The Best Way to Protect the Samsung Galaxy Note10+ buff.ly/2zkjIhU <unk> ^\"\n        ],\n        \"semantic_type\": \"\",\n        \"description\": \"\"\n      }\n    }\n  ]\n}"
            }
          },
          "metadata": {},
          "execution_count": 82
        }
      ]
    },
    {
      "cell_type": "code",
      "source": [
        "df.tail()"
      ],
      "metadata": {
        "colab": {
          "base_uri": "https://localhost:8080/",
          "height": 206
        },
        "id": "-GvC48CVTBIq",
        "outputId": "cc87c097-979d-4de1-d1d0-b4702a4d0660"
      },
      "execution_count": 83,
      "outputs": [
        {
          "output_type": "execute_result",
          "data": {
            "text/plain": [
              "       number  source     label  \\\n",
              "74677    9200  Nvidia  Positive   \n",
              "74678    9200  Nvidia  Positive   \n",
              "74679    9200  Nvidia  Positive   \n",
              "74680    9200  Nvidia  Positive   \n",
              "74681    9200  Nvidia  Positive   \n",
              "\n",
              "                                                    text  \n",
              "74677  Just realized that the Windows partition of my...  \n",
              "74678  Just realized that my Mac window partition is ...  \n",
              "74679  Just realized the windows partition of my Mac ...  \n",
              "74680  Just realized between the windows partition of...  \n",
              "74681  Just like the windows partition of my Mac is l...  "
            ],
            "text/html": [
              "\n",
              "  <div id=\"df-e6af493a-f846-4a36-b01b-7df4091a4585\" class=\"colab-df-container\">\n",
              "    <div>\n",
              "<style scoped>\n",
              "    .dataframe tbody tr th:only-of-type {\n",
              "        vertical-align: middle;\n",
              "    }\n",
              "\n",
              "    .dataframe tbody tr th {\n",
              "        vertical-align: top;\n",
              "    }\n",
              "\n",
              "    .dataframe thead th {\n",
              "        text-align: right;\n",
              "    }\n",
              "</style>\n",
              "<table border=\"1\" class=\"dataframe\">\n",
              "  <thead>\n",
              "    <tr style=\"text-align: right;\">\n",
              "      <th></th>\n",
              "      <th>number</th>\n",
              "      <th>source</th>\n",
              "      <th>label</th>\n",
              "      <th>text</th>\n",
              "    </tr>\n",
              "  </thead>\n",
              "  <tbody>\n",
              "    <tr>\n",
              "      <th>74677</th>\n",
              "      <td>9200</td>\n",
              "      <td>Nvidia</td>\n",
              "      <td>Positive</td>\n",
              "      <td>Just realized that the Windows partition of my...</td>\n",
              "    </tr>\n",
              "    <tr>\n",
              "      <th>74678</th>\n",
              "      <td>9200</td>\n",
              "      <td>Nvidia</td>\n",
              "      <td>Positive</td>\n",
              "      <td>Just realized that my Mac window partition is ...</td>\n",
              "    </tr>\n",
              "    <tr>\n",
              "      <th>74679</th>\n",
              "      <td>9200</td>\n",
              "      <td>Nvidia</td>\n",
              "      <td>Positive</td>\n",
              "      <td>Just realized the windows partition of my Mac ...</td>\n",
              "    </tr>\n",
              "    <tr>\n",
              "      <th>74680</th>\n",
              "      <td>9200</td>\n",
              "      <td>Nvidia</td>\n",
              "      <td>Positive</td>\n",
              "      <td>Just realized between the windows partition of...</td>\n",
              "    </tr>\n",
              "    <tr>\n",
              "      <th>74681</th>\n",
              "      <td>9200</td>\n",
              "      <td>Nvidia</td>\n",
              "      <td>Positive</td>\n",
              "      <td>Just like the windows partition of my Mac is l...</td>\n",
              "    </tr>\n",
              "  </tbody>\n",
              "</table>\n",
              "</div>\n",
              "    <div class=\"colab-df-buttons\">\n",
              "\n",
              "  <div class=\"colab-df-container\">\n",
              "    <button class=\"colab-df-convert\" onclick=\"convertToInteractive('df-e6af493a-f846-4a36-b01b-7df4091a4585')\"\n",
              "            title=\"Convert this dataframe to an interactive table.\"\n",
              "            style=\"display:none;\">\n",
              "\n",
              "  <svg xmlns=\"http://www.w3.org/2000/svg\" height=\"24px\" viewBox=\"0 -960 960 960\">\n",
              "    <path d=\"M120-120v-720h720v720H120Zm60-500h600v-160H180v160Zm220 220h160v-160H400v160Zm0 220h160v-160H400v160ZM180-400h160v-160H180v160Zm440 0h160v-160H620v160ZM180-180h160v-160H180v160Zm440 0h160v-160H620v160Z\"/>\n",
              "  </svg>\n",
              "    </button>\n",
              "\n",
              "  <style>\n",
              "    .colab-df-container {\n",
              "      display:flex;\n",
              "      gap: 12px;\n",
              "    }\n",
              "\n",
              "    .colab-df-convert {\n",
              "      background-color: #E8F0FE;\n",
              "      border: none;\n",
              "      border-radius: 50%;\n",
              "      cursor: pointer;\n",
              "      display: none;\n",
              "      fill: #1967D2;\n",
              "      height: 32px;\n",
              "      padding: 0 0 0 0;\n",
              "      width: 32px;\n",
              "    }\n",
              "\n",
              "    .colab-df-convert:hover {\n",
              "      background-color: #E2EBFA;\n",
              "      box-shadow: 0px 1px 2px rgba(60, 64, 67, 0.3), 0px 1px 3px 1px rgba(60, 64, 67, 0.15);\n",
              "      fill: #174EA6;\n",
              "    }\n",
              "\n",
              "    .colab-df-buttons div {\n",
              "      margin-bottom: 4px;\n",
              "    }\n",
              "\n",
              "    [theme=dark] .colab-df-convert {\n",
              "      background-color: #3B4455;\n",
              "      fill: #D2E3FC;\n",
              "    }\n",
              "\n",
              "    [theme=dark] .colab-df-convert:hover {\n",
              "      background-color: #434B5C;\n",
              "      box-shadow: 0px 1px 3px 1px rgba(0, 0, 0, 0.15);\n",
              "      filter: drop-shadow(0px 1px 2px rgba(0, 0, 0, 0.3));\n",
              "      fill: #FFFFFF;\n",
              "    }\n",
              "  </style>\n",
              "\n",
              "    <script>\n",
              "      const buttonEl =\n",
              "        document.querySelector('#df-e6af493a-f846-4a36-b01b-7df4091a4585 button.colab-df-convert');\n",
              "      buttonEl.style.display =\n",
              "        google.colab.kernel.accessAllowed ? 'block' : 'none';\n",
              "\n",
              "      async function convertToInteractive(key) {\n",
              "        const element = document.querySelector('#df-e6af493a-f846-4a36-b01b-7df4091a4585');\n",
              "        const dataTable =\n",
              "          await google.colab.kernel.invokeFunction('convertToInteractive',\n",
              "                                                    [key], {});\n",
              "        if (!dataTable) return;\n",
              "\n",
              "        const docLinkHtml = 'Like what you see? Visit the ' +\n",
              "          '<a target=\"_blank\" href=https://colab.research.google.com/notebooks/data_table.ipynb>data table notebook</a>'\n",
              "          + ' to learn more about interactive tables.';\n",
              "        element.innerHTML = '';\n",
              "        dataTable['output_type'] = 'display_data';\n",
              "        await google.colab.output.renderOutput(dataTable, element);\n",
              "        const docLink = document.createElement('div');\n",
              "        docLink.innerHTML = docLinkHtml;\n",
              "        element.appendChild(docLink);\n",
              "      }\n",
              "    </script>\n",
              "  </div>\n",
              "\n",
              "\n",
              "    <div id=\"df-fd5c7dbc-bd20-4cd3-bb72-48ba974f9e8f\">\n",
              "      <button class=\"colab-df-quickchart\" onclick=\"quickchart('df-fd5c7dbc-bd20-4cd3-bb72-48ba974f9e8f')\"\n",
              "                title=\"Suggest charts\"\n",
              "                style=\"display:none;\">\n",
              "\n",
              "<svg xmlns=\"http://www.w3.org/2000/svg\" height=\"24px\"viewBox=\"0 0 24 24\"\n",
              "     width=\"24px\">\n",
              "    <g>\n",
              "        <path d=\"M19 3H5c-1.1 0-2 .9-2 2v14c0 1.1.9 2 2 2h14c1.1 0 2-.9 2-2V5c0-1.1-.9-2-2-2zM9 17H7v-7h2v7zm4 0h-2V7h2v10zm4 0h-2v-4h2v4z\"/>\n",
              "    </g>\n",
              "</svg>\n",
              "      </button>\n",
              "\n",
              "<style>\n",
              "  .colab-df-quickchart {\n",
              "      --bg-color: #E8F0FE;\n",
              "      --fill-color: #1967D2;\n",
              "      --hover-bg-color: #E2EBFA;\n",
              "      --hover-fill-color: #174EA6;\n",
              "      --disabled-fill-color: #AAA;\n",
              "      --disabled-bg-color: #DDD;\n",
              "  }\n",
              "\n",
              "  [theme=dark] .colab-df-quickchart {\n",
              "      --bg-color: #3B4455;\n",
              "      --fill-color: #D2E3FC;\n",
              "      --hover-bg-color: #434B5C;\n",
              "      --hover-fill-color: #FFFFFF;\n",
              "      --disabled-bg-color: #3B4455;\n",
              "      --disabled-fill-color: #666;\n",
              "  }\n",
              "\n",
              "  .colab-df-quickchart {\n",
              "    background-color: var(--bg-color);\n",
              "    border: none;\n",
              "    border-radius: 50%;\n",
              "    cursor: pointer;\n",
              "    display: none;\n",
              "    fill: var(--fill-color);\n",
              "    height: 32px;\n",
              "    padding: 0;\n",
              "    width: 32px;\n",
              "  }\n",
              "\n",
              "  .colab-df-quickchart:hover {\n",
              "    background-color: var(--hover-bg-color);\n",
              "    box-shadow: 0 1px 2px rgba(60, 64, 67, 0.3), 0 1px 3px 1px rgba(60, 64, 67, 0.15);\n",
              "    fill: var(--button-hover-fill-color);\n",
              "  }\n",
              "\n",
              "  .colab-df-quickchart-complete:disabled,\n",
              "  .colab-df-quickchart-complete:disabled:hover {\n",
              "    background-color: var(--disabled-bg-color);\n",
              "    fill: var(--disabled-fill-color);\n",
              "    box-shadow: none;\n",
              "  }\n",
              "\n",
              "  .colab-df-spinner {\n",
              "    border: 2px solid var(--fill-color);\n",
              "    border-color: transparent;\n",
              "    border-bottom-color: var(--fill-color);\n",
              "    animation:\n",
              "      spin 1s steps(1) infinite;\n",
              "  }\n",
              "\n",
              "  @keyframes spin {\n",
              "    0% {\n",
              "      border-color: transparent;\n",
              "      border-bottom-color: var(--fill-color);\n",
              "      border-left-color: var(--fill-color);\n",
              "    }\n",
              "    20% {\n",
              "      border-color: transparent;\n",
              "      border-left-color: var(--fill-color);\n",
              "      border-top-color: var(--fill-color);\n",
              "    }\n",
              "    30% {\n",
              "      border-color: transparent;\n",
              "      border-left-color: var(--fill-color);\n",
              "      border-top-color: var(--fill-color);\n",
              "      border-right-color: var(--fill-color);\n",
              "    }\n",
              "    40% {\n",
              "      border-color: transparent;\n",
              "      border-right-color: var(--fill-color);\n",
              "      border-top-color: var(--fill-color);\n",
              "    }\n",
              "    60% {\n",
              "      border-color: transparent;\n",
              "      border-right-color: var(--fill-color);\n",
              "    }\n",
              "    80% {\n",
              "      border-color: transparent;\n",
              "      border-right-color: var(--fill-color);\n",
              "      border-bottom-color: var(--fill-color);\n",
              "    }\n",
              "    90% {\n",
              "      border-color: transparent;\n",
              "      border-bottom-color: var(--fill-color);\n",
              "    }\n",
              "  }\n",
              "</style>\n",
              "\n",
              "      <script>\n",
              "        async function quickchart(key) {\n",
              "          const quickchartButtonEl =\n",
              "            document.querySelector('#' + key + ' button');\n",
              "          quickchartButtonEl.disabled = true;  // To prevent multiple clicks.\n",
              "          quickchartButtonEl.classList.add('colab-df-spinner');\n",
              "          try {\n",
              "            const charts = await google.colab.kernel.invokeFunction(\n",
              "                'suggestCharts', [key], {});\n",
              "          } catch (error) {\n",
              "            console.error('Error during call to suggestCharts:', error);\n",
              "          }\n",
              "          quickchartButtonEl.classList.remove('colab-df-spinner');\n",
              "          quickchartButtonEl.classList.add('colab-df-quickchart-complete');\n",
              "        }\n",
              "        (() => {\n",
              "          let quickchartButtonEl =\n",
              "            document.querySelector('#df-fd5c7dbc-bd20-4cd3-bb72-48ba974f9e8f button');\n",
              "          quickchartButtonEl.style.display =\n",
              "            google.colab.kernel.accessAllowed ? 'block' : 'none';\n",
              "        })();\n",
              "      </script>\n",
              "    </div>\n",
              "\n",
              "    </div>\n",
              "  </div>\n"
            ],
            "application/vnd.google.colaboratory.intrinsic+json": {
              "type": "dataframe",
              "summary": "{\n  \"name\": \"df\",\n  \"rows\": 5,\n  \"fields\": [\n    {\n      \"column\": \"number\",\n      \"properties\": {\n        \"dtype\": \"number\",\n        \"std\": 0,\n        \"min\": 9200,\n        \"max\": 9200,\n        \"num_unique_values\": 1,\n        \"samples\": [\n          9200\n        ],\n        \"semantic_type\": \"\",\n        \"description\": \"\"\n      }\n    },\n    {\n      \"column\": \"source\",\n      \"properties\": {\n        \"dtype\": \"category\",\n        \"num_unique_values\": 1,\n        \"samples\": [\n          \"Nvidia\"\n        ],\n        \"semantic_type\": \"\",\n        \"description\": \"\"\n      }\n    },\n    {\n      \"column\": \"label\",\n      \"properties\": {\n        \"dtype\": \"category\",\n        \"num_unique_values\": 1,\n        \"samples\": [\n          \"Positive\"\n        ],\n        \"semantic_type\": \"\",\n        \"description\": \"\"\n      }\n    },\n    {\n      \"column\": \"text\",\n      \"properties\": {\n        \"dtype\": \"string\",\n        \"num_unique_values\": 5,\n        \"samples\": [\n          \"Just realized that my Mac window partition is 6 years behind on Nvidia drivers and I have no idea how I didn't notice\"\n        ],\n        \"semantic_type\": \"\",\n        \"description\": \"\"\n      }\n    }\n  ]\n}"
            }
          },
          "metadata": {},
          "execution_count": 83
        }
      ]
    },
    {
      "cell_type": "code",
      "source": [
        "df['source'].value_counts()"
      ],
      "metadata": {
        "colab": {
          "base_uri": "https://localhost:8080/",
          "height": 1000
        },
        "id": "Us0bpc0ETBLC",
        "outputId": "0237ac13-f978-411c-bc22-6e4317deffb7"
      },
      "execution_count": 84,
      "outputs": [
        {
          "output_type": "execute_result",
          "data": {
            "text/plain": [
              "source\n",
              "Microsoft                            2400\n",
              "MaddenNFL                            2400\n",
              "TomClancysRainbowSix                 2400\n",
              "LeagueOfLegends                      2394\n",
              "CallOfDuty                           2394\n",
              "Verizon                              2382\n",
              "CallOfDutyBlackopsColdWar            2376\n",
              "ApexLegends                          2376\n",
              "Facebook                             2370\n",
              "WorldOfCraft                         2364\n",
              "Dota2                                2364\n",
              "NBA2K                                2352\n",
              "TomClancysGhostRecon                 2346\n",
              "Battlefield                          2346\n",
              "FIFA                                 2340\n",
              "Overwatch                            2334\n",
              "Xbox(Xseries)                        2334\n",
              "johnson&johnson                      2328\n",
              "Amazon                               2316\n",
              "HomeDepot                            2310\n",
              "PlayStation5(PS5)                    2310\n",
              "CS-GO                                2304\n",
              "Cyberpunk2077                        2304\n",
              "GrandTheftAuto(GTA)                  2304\n",
              "Hearthstone                          2298\n",
              "Nvidia                               2298\n",
              "Google                               2298\n",
              "Borderlands                          2286\n",
              "PlayerUnknownsBattlegrounds(PUBG)    2274\n",
              "Fortnite                             2274\n",
              "RedDeadRedemption(RDR)               2262\n",
              "AssassinsCreed                       2244\n",
              "Name: count, dtype: int64"
            ],
            "text/html": [
              "<div>\n",
              "<style scoped>\n",
              "    .dataframe tbody tr th:only-of-type {\n",
              "        vertical-align: middle;\n",
              "    }\n",
              "\n",
              "    .dataframe tbody tr th {\n",
              "        vertical-align: top;\n",
              "    }\n",
              "\n",
              "    .dataframe thead th {\n",
              "        text-align: right;\n",
              "    }\n",
              "</style>\n",
              "<table border=\"1\" class=\"dataframe\">\n",
              "  <thead>\n",
              "    <tr style=\"text-align: right;\">\n",
              "      <th></th>\n",
              "      <th>count</th>\n",
              "    </tr>\n",
              "    <tr>\n",
              "      <th>source</th>\n",
              "      <th></th>\n",
              "    </tr>\n",
              "  </thead>\n",
              "  <tbody>\n",
              "    <tr>\n",
              "      <th>Microsoft</th>\n",
              "      <td>2400</td>\n",
              "    </tr>\n",
              "    <tr>\n",
              "      <th>MaddenNFL</th>\n",
              "      <td>2400</td>\n",
              "    </tr>\n",
              "    <tr>\n",
              "      <th>TomClancysRainbowSix</th>\n",
              "      <td>2400</td>\n",
              "    </tr>\n",
              "    <tr>\n",
              "      <th>LeagueOfLegends</th>\n",
              "      <td>2394</td>\n",
              "    </tr>\n",
              "    <tr>\n",
              "      <th>CallOfDuty</th>\n",
              "      <td>2394</td>\n",
              "    </tr>\n",
              "    <tr>\n",
              "      <th>Verizon</th>\n",
              "      <td>2382</td>\n",
              "    </tr>\n",
              "    <tr>\n",
              "      <th>CallOfDutyBlackopsColdWar</th>\n",
              "      <td>2376</td>\n",
              "    </tr>\n",
              "    <tr>\n",
              "      <th>ApexLegends</th>\n",
              "      <td>2376</td>\n",
              "    </tr>\n",
              "    <tr>\n",
              "      <th>Facebook</th>\n",
              "      <td>2370</td>\n",
              "    </tr>\n",
              "    <tr>\n",
              "      <th>WorldOfCraft</th>\n",
              "      <td>2364</td>\n",
              "    </tr>\n",
              "    <tr>\n",
              "      <th>Dota2</th>\n",
              "      <td>2364</td>\n",
              "    </tr>\n",
              "    <tr>\n",
              "      <th>NBA2K</th>\n",
              "      <td>2352</td>\n",
              "    </tr>\n",
              "    <tr>\n",
              "      <th>TomClancysGhostRecon</th>\n",
              "      <td>2346</td>\n",
              "    </tr>\n",
              "    <tr>\n",
              "      <th>Battlefield</th>\n",
              "      <td>2346</td>\n",
              "    </tr>\n",
              "    <tr>\n",
              "      <th>FIFA</th>\n",
              "      <td>2340</td>\n",
              "    </tr>\n",
              "    <tr>\n",
              "      <th>Overwatch</th>\n",
              "      <td>2334</td>\n",
              "    </tr>\n",
              "    <tr>\n",
              "      <th>Xbox(Xseries)</th>\n",
              "      <td>2334</td>\n",
              "    </tr>\n",
              "    <tr>\n",
              "      <th>johnson&amp;johnson</th>\n",
              "      <td>2328</td>\n",
              "    </tr>\n",
              "    <tr>\n",
              "      <th>Amazon</th>\n",
              "      <td>2316</td>\n",
              "    </tr>\n",
              "    <tr>\n",
              "      <th>HomeDepot</th>\n",
              "      <td>2310</td>\n",
              "    </tr>\n",
              "    <tr>\n",
              "      <th>PlayStation5(PS5)</th>\n",
              "      <td>2310</td>\n",
              "    </tr>\n",
              "    <tr>\n",
              "      <th>CS-GO</th>\n",
              "      <td>2304</td>\n",
              "    </tr>\n",
              "    <tr>\n",
              "      <th>Cyberpunk2077</th>\n",
              "      <td>2304</td>\n",
              "    </tr>\n",
              "    <tr>\n",
              "      <th>GrandTheftAuto(GTA)</th>\n",
              "      <td>2304</td>\n",
              "    </tr>\n",
              "    <tr>\n",
              "      <th>Hearthstone</th>\n",
              "      <td>2298</td>\n",
              "    </tr>\n",
              "    <tr>\n",
              "      <th>Nvidia</th>\n",
              "      <td>2298</td>\n",
              "    </tr>\n",
              "    <tr>\n",
              "      <th>Google</th>\n",
              "      <td>2298</td>\n",
              "    </tr>\n",
              "    <tr>\n",
              "      <th>Borderlands</th>\n",
              "      <td>2286</td>\n",
              "    </tr>\n",
              "    <tr>\n",
              "      <th>PlayerUnknownsBattlegrounds(PUBG)</th>\n",
              "      <td>2274</td>\n",
              "    </tr>\n",
              "    <tr>\n",
              "      <th>Fortnite</th>\n",
              "      <td>2274</td>\n",
              "    </tr>\n",
              "    <tr>\n",
              "      <th>RedDeadRedemption(RDR)</th>\n",
              "      <td>2262</td>\n",
              "    </tr>\n",
              "    <tr>\n",
              "      <th>AssassinsCreed</th>\n",
              "      <td>2244</td>\n",
              "    </tr>\n",
              "  </tbody>\n",
              "</table>\n",
              "</div><br><label><b>dtype:</b> int64</label>"
            ]
          },
          "metadata": {},
          "execution_count": 84
        }
      ]
    },
    {
      "cell_type": "code",
      "source": [
        "df['label'].value_counts()"
      ],
      "metadata": {
        "colab": {
          "base_uri": "https://localhost:8080/",
          "height": 241
        },
        "id": "jz9wX3wbTBND",
        "outputId": "f338aadc-5319-4fca-c371-5ca2f98b91d0"
      },
      "execution_count": 85,
      "outputs": [
        {
          "output_type": "execute_result",
          "data": {
            "text/plain": [
              "label\n",
              "Negative      22542\n",
              "Positive      20832\n",
              "Neutral       18318\n",
              "Irrelevant    12990\n",
              "Name: count, dtype: int64"
            ],
            "text/html": [
              "<div>\n",
              "<style scoped>\n",
              "    .dataframe tbody tr th:only-of-type {\n",
              "        vertical-align: middle;\n",
              "    }\n",
              "\n",
              "    .dataframe tbody tr th {\n",
              "        vertical-align: top;\n",
              "    }\n",
              "\n",
              "    .dataframe thead th {\n",
              "        text-align: right;\n",
              "    }\n",
              "</style>\n",
              "<table border=\"1\" class=\"dataframe\">\n",
              "  <thead>\n",
              "    <tr style=\"text-align: right;\">\n",
              "      <th></th>\n",
              "      <th>count</th>\n",
              "    </tr>\n",
              "    <tr>\n",
              "      <th>label</th>\n",
              "      <th></th>\n",
              "    </tr>\n",
              "  </thead>\n",
              "  <tbody>\n",
              "    <tr>\n",
              "      <th>Negative</th>\n",
              "      <td>22542</td>\n",
              "    </tr>\n",
              "    <tr>\n",
              "      <th>Positive</th>\n",
              "      <td>20832</td>\n",
              "    </tr>\n",
              "    <tr>\n",
              "      <th>Neutral</th>\n",
              "      <td>18318</td>\n",
              "    </tr>\n",
              "    <tr>\n",
              "      <th>Irrelevant</th>\n",
              "      <td>12990</td>\n",
              "    </tr>\n",
              "  </tbody>\n",
              "</table>\n",
              "</div><br><label><b>dtype:</b> int64</label>"
            ]
          },
          "metadata": {},
          "execution_count": 85
        }
      ]
    },
    {
      "cell_type": "code",
      "source": [
        "import re\n",
        "import collections\n",
        "import torch\n",
        "from torch.utils.data import Dataset, DataLoader\n",
        "from sklearn.model_selection import train_test_split"
      ],
      "metadata": {
        "id": "_vJRllTtX4HG"
      },
      "execution_count": 86,
      "outputs": []
    },
    {
      "cell_type": "code",
      "source": [
        "import re\n",
        "\n",
        "url_re      = re.compile(r'https?://\\S+|www\\.\\S+')\n",
        "user_re     = re.compile(r'@\\w+')\n",
        "hashtag_re  = re.compile(r'#(\\w+)')\n",
        "repeat_re   = re.compile(r'(.)\\1{2,}')  # e.g. loooove → lo love\n",
        "emoji_re    = re.compile(\"[\"\n",
        "                 u\"\\U0001F600-\\U0001F64F\"\n",
        "                 u\"\\U0001F300-\\U0001F5FF\"\n",
        "                 # … add ranges as desired\n",
        "                 \"]+\", flags=re.UNICODE)"
      ],
      "metadata": {
        "id": "oLD3XkUbU4Az"
      },
      "execution_count": 87,
      "outputs": []
    },
    {
      "cell_type": "code",
      "source": [
        "def clean(text):\n",
        "    text = text.lower()\n",
        "    text = url_re.sub('<URL>', text)\n",
        "    text = user_re.sub('<USER>', text)\n",
        "    text = hashtag_re.sub(r'\\1', text)\n",
        "    text = emoji_re.sub('', text)\n",
        "    text = re.sub(r'&amp;',' and ', text)\n",
        "    text = re.sub(r'[^\\w\\s<>]',' ', text)       # keep <URL> <USER>\n",
        "    text = repeat_re.sub(r'\\1\\1', text)         # loooove→loove\n",
        "    text = re.sub(r'\\s+',' ', text).strip()\n",
        "    return text"
      ],
      "metadata": {
        "id": "c9T5diAlU4Ks"
      },
      "execution_count": 88,
      "outputs": []
    },
    {
      "cell_type": "code",
      "source": [
        "def tokenize(text):\n",
        "    return text.split()"
      ],
      "metadata": {
        "id": "gUoZE72tU4NG"
      },
      "execution_count": 89,
      "outputs": []
    },
    {
      "cell_type": "code",
      "source": [
        "df = df.dropna(subset=['text']).copy()"
      ],
      "metadata": {
        "id": "f5QnAnX9XDwE"
      },
      "execution_count": 90,
      "outputs": []
    },
    {
      "cell_type": "code",
      "source": [
        "df['tokens'] = df['text'].map(clean).map(tokenize)"
      ],
      "metadata": {
        "id": "cy4fHQ3sU4Pe"
      },
      "execution_count": 91,
      "outputs": []
    },
    {
      "cell_type": "code",
      "source": [
        "label2idx = {'Negative':0, 'Neutral':1, 'Positive':2 ,'Irrelevant':3}\n",
        "df['label_id'] = df['label'].map(label2idx)"
      ],
      "metadata": {
        "id": "2O3vOIzhU4Rq"
      },
      "execution_count": 92,
      "outputs": []
    },
    {
      "cell_type": "code",
      "source": [
        "train_df, test_df = train_test_split(df, test_size=0.2,\n",
        "                                     stratify=df['label_id'],\n",
        "                                     random_state=42)"
      ],
      "metadata": {
        "id": "9hZidZWGU4T3"
      },
      "execution_count": 93,
      "outputs": []
    },
    {
      "cell_type": "code",
      "source": [
        "train_df, val_df  = train_test_split(train_df, test_size=0.1,\n",
        "                                     stratify=train_df['label_id'],\n",
        "                                     random_state=42)"
      ],
      "metadata": {
        "id": "khjbRlKcU4Xh"
      },
      "execution_count": 94,
      "outputs": []
    },
    {
      "cell_type": "code",
      "source": [
        "counter = collections.Counter()\n",
        "for tokens in train_df['tokens']:\n",
        "    counter.update(tokens)"
      ],
      "metadata": {
        "id": "aZC2vluuTBQb"
      },
      "execution_count": 95,
      "outputs": []
    },
    {
      "cell_type": "code",
      "source": [
        "vocab_size = 20000\n",
        "most_common = counter.most_common(vocab_size-2)   # reserve 0,1\n",
        "itos = ['<PAD>', '<UNK>'] + [w for w,_ in most_common]\n",
        "stoi = {w:i for i,w in enumerate(itos)}"
      ],
      "metadata": {
        "id": "mfSOqh6LYIAb"
      },
      "execution_count": 96,
      "outputs": []
    },
    {
      "cell_type": "code",
      "source": [
        "PAD_IDX = stoi['<PAD>']\n",
        "UNK_IDX = stoi['<UNK>']"
      ],
      "metadata": {
        "id": "RdsYA1G1YICy"
      },
      "execution_count": 97,
      "outputs": []
    },
    {
      "cell_type": "code",
      "source": [
        "max_len = 50\n",
        "\n",
        "def encode_and_pad(tokens):\n",
        "    ids = [stoi.get(t, UNK_IDX) for t in tokens]\n",
        "    if len(ids) < max_len:\n",
        "        ids = ids + [PAD_IDX]*(max_len - len(ids))\n",
        "    else:\n",
        "        ids = ids[:max_len]\n",
        "    return ids\n"
      ],
      "metadata": {
        "id": "yF2v_evUYTzL"
      },
      "execution_count": 98,
      "outputs": []
    },
    {
      "cell_type": "code",
      "source": [
        "for split in (train_df, val_df, test_df):\n",
        "    split['input_ids'] = split['tokens'].map(encode_and_pad)"
      ],
      "metadata": {
        "id": "mGmMA15hYT1M"
      },
      "execution_count": 99,
      "outputs": []
    },
    {
      "cell_type": "code",
      "source": [
        "class TweetSentimentDataset(Dataset):\n",
        "    def __init__(self, df):\n",
        "        self.x = df['input_ids'].tolist()\n",
        "        self.y = df['label_id'].tolist()\n",
        "    def __len__(self):\n",
        "        return len(self.y)\n",
        "    def __getitem__(self, i):\n",
        "        return torch.tensor(self.x[i], dtype=torch.long), \\\n",
        "               torch.tensor(self.y[i], dtype=torch.long)\n"
      ],
      "metadata": {
        "id": "1HqykLz-YT3t"
      },
      "execution_count": 100,
      "outputs": []
    },
    {
      "cell_type": "code",
      "source": [
        "batch_size = 32\n",
        "train_ds = TweetSentimentDataset(train_df)\n",
        "val_ds   = TweetSentimentDataset(val_df)\n",
        "test_ds  = TweetSentimentDataset(test_df)\n"
      ],
      "metadata": {
        "id": "OZd2BT6rYT50"
      },
      "execution_count": 101,
      "outputs": []
    },
    {
      "cell_type": "code",
      "source": [
        "train_loader = DataLoader(train_ds, batch_size, shuffle=True)\n",
        "val_loader   = DataLoader(val_ds,   batch_size)\n",
        "test_loader  = DataLoader(test_ds,  batch_size)"
      ],
      "metadata": {
        "id": "JoQvzWOwYT8G"
      },
      "execution_count": 102,
      "outputs": []
    },
    {
      "cell_type": "code",
      "source": [
        "import torch\n",
        "import torch.nn as nn\n",
        "import torch.nn.functional as F"
      ],
      "metadata": {
        "id": "rioM0D9wYIFB"
      },
      "execution_count": 103,
      "outputs": []
    },
    {
      "cell_type": "code",
      "source": [
        "class BiLSTMAttentionSentiment(nn.Module):\n",
        "    def __init__(self,\n",
        "                 vocab_size,\n",
        "                 emb_dim,\n",
        "                 hidden_dim,\n",
        "                 output_dim,\n",
        "                 padding_idx,\n",
        "                 dropout=0.2):\n",
        "        super().__init__()\n",
        "        # 1) embedding\n",
        "        self.embedding = nn.Embedding(\n",
        "            num_embeddings=vocab_size,\n",
        "            embedding_dim=emb_dim,\n",
        "            padding_idx=padding_idx\n",
        "        )\n",
        "        # 2) bi‐LSTM encoder\n",
        "        self.encoder = nn.LSTM(\n",
        "            input_size=emb_dim,\n",
        "            hidden_size=hidden_dim,\n",
        "            num_layers=1,\n",
        "            batch_first=True,\n",
        "            bidirectional=True\n",
        "        )\n",
        "        # 3) attention: score = v^T tanh(W h_i + b)\n",
        "        self.attn_W = nn.Linear(hidden_dim*2, hidden_dim*2)\n",
        "        self.attn_v = nn.Linear(hidden_dim*2, 1, bias=False)\n",
        "        # 4) classifier on context vector\n",
        "        self.fc = nn.Linear(hidden_dim*2, output_dim)\n",
        "        self.dropout = nn.Dropout(dropout)\n",
        "\n",
        "    def forward(self, input_ids):\n",
        "        # input_ids: [batch_size, seq_len]\n",
        "        mask = (input_ids != PAD_IDX)                # [B, T]\n",
        "        emb = self.dropout(self.embedding(input_ids)) # [B, T, E]\n",
        "\n",
        "        # run Bi‐LSTM\n",
        "        outputs, _ = self.encoder(emb)                # outputs: [B, T, 2H]\n",
        "\n",
        "        # compute attention scores\n",
        "        #  a) energy: [B, T, 2H]\n",
        "        energy = torch.tanh(self.attn_W(outputs))\n",
        "        #  b) scores: [B, T, 1] → squeeze → [B, T]\n",
        "        scores = self.attn_v(energy).squeeze(-1)\n",
        "\n",
        "        # mask out PAD positions before softmax\n",
        "        scores = scores.masked_fill(~mask, -1e9)\n",
        "\n",
        "        # normalized weights [B, T]\n",
        "        attn_weights = F.softmax(scores, dim=1)\n",
        "\n",
        "        # context vector = weighted sum [B, 2H]\n",
        "        #   unsqueeze weights for broadcast: [B, T, 1]\n",
        "        context = torch.sum(attn_weights.unsqueeze(-1) * outputs, dim=1)\n",
        "\n",
        "        # final classification\n",
        "        context = self.dropout(context)\n",
        "        logits = self.fc(context)                     # [B, output_dim]\n",
        "        return logits, attn_weights\n"
      ],
      "metadata": {
        "id": "6xlwZzX7YIHE"
      },
      "execution_count": 104,
      "outputs": []
    },
    {
      "cell_type": "code",
      "source": [
        "vocab_size = len(itos)\n",
        "emb_dim     = 100\n",
        "hidden_dim  = 128\n",
        "output_dim  = 4    # negative/neutral/positive\n",
        "PAD_IDX     = stoi['<PAD>']"
      ],
      "metadata": {
        "id": "zOe01BjbZWD5"
      },
      "execution_count": 105,
      "outputs": []
    },
    {
      "cell_type": "code",
      "source": [
        "model = BiLSTMAttentionSentiment(\n",
        "    vocab_size, emb_dim, hidden_dim, output_dim, PAD_IDX\n",
        ")"
      ],
      "metadata": {
        "id": "FKnAcVt3ZWGR"
      },
      "execution_count": 106,
      "outputs": []
    },
    {
      "cell_type": "code",
      "source": [
        "device = torch.device('cuda' if torch.cuda.is_available() else 'cpu')"
      ],
      "metadata": {
        "id": "q2gZ-tweZWIn"
      },
      "execution_count": 107,
      "outputs": []
    },
    {
      "cell_type": "code",
      "source": [
        "model.to(device)"
      ],
      "metadata": {
        "colab": {
          "base_uri": "https://localhost:8080/"
        },
        "id": "QEsUPIfMZWKr",
        "outputId": "8d769224-d246-4a8d-8d83-071e6d912148"
      },
      "execution_count": 108,
      "outputs": [
        {
          "output_type": "execute_result",
          "data": {
            "text/plain": [
              "BiLSTMAttentionSentiment(\n",
              "  (embedding): Embedding(20000, 100, padding_idx=0)\n",
              "  (encoder): LSTM(100, 128, batch_first=True, bidirectional=True)\n",
              "  (attn_W): Linear(in_features=256, out_features=256, bias=True)\n",
              "  (attn_v): Linear(in_features=256, out_features=1, bias=False)\n",
              "  (fc): Linear(in_features=256, out_features=4, bias=True)\n",
              "  (dropout): Dropout(p=0.2, inplace=False)\n",
              ")"
            ]
          },
          "metadata": {},
          "execution_count": 108
        }
      ]
    },
    {
      "cell_type": "code",
      "source": [
        "optimizer = torch.optim.Adam(model.parameters(), lr=1e-3)\n",
        "criterion = nn.CrossEntropyLoss()\n",
        "criterion.to(device)\n"
      ],
      "metadata": {
        "colab": {
          "base_uri": "https://localhost:8080/"
        },
        "id": "WJDQramQZWMv",
        "outputId": "44d8e157-fcb9-4db3-857a-7fc54f27890d"
      },
      "execution_count": 109,
      "outputs": [
        {
          "output_type": "execute_result",
          "data": {
            "text/plain": [
              "CrossEntropyLoss()"
            ]
          },
          "metadata": {},
          "execution_count": 109
        }
      ]
    },
    {
      "cell_type": "code",
      "source": [
        "def train_epoch(model, loader, optimizer, criterion):\n",
        "    model.train()\n",
        "    total_loss, total_correct, total_count = 0., 0, 0\n",
        "    for input_ids, labels in loader:\n",
        "        input_ids, labels = input_ids.to(device), labels.to(device)\n",
        "        optimizer.zero_grad()\n",
        "        logits, _ = model(input_ids)\n",
        "        loss = criterion(logits, labels)\n",
        "        loss.backward()\n",
        "        optimizer.step()\n",
        "\n",
        "        total_loss += loss.item() * labels.size(0)\n",
        "        preds = logits.argmax(dim=1)\n",
        "        total_correct += (preds == labels).sum().item()\n",
        "        total_count   += labels.size(0)\n",
        "\n",
        "    avg_loss = total_loss / total_count\n",
        "    accuracy = total_correct / total_count\n",
        "    return avg_loss, accuracy"
      ],
      "metadata": {
        "id": "Dtgxj2qJZWOz"
      },
      "execution_count": 110,
      "outputs": []
    },
    {
      "cell_type": "code",
      "source": [
        "def eval_epoch(model, loader, criterion):\n",
        "    model.eval()\n",
        "    total_loss, total_correct, total_count = 0., 0, 0\n",
        "    with torch.no_grad():\n",
        "        for input_ids, labels in loader:\n",
        "            input_ids, labels = input_ids.to(device), labels.to(device)\n",
        "            logits, _ = model(input_ids)\n",
        "            loss = criterion(logits, labels)\n",
        "\n",
        "            total_loss += loss.item() * labels.size(0)\n",
        "            preds = logits.argmax(dim=1)\n",
        "            total_correct += (preds == labels).sum().item()\n",
        "            total_count   += labels.size(0)\n",
        "\n",
        "    avg_loss = total_loss / total_count\n",
        "    accuracy = total_correct / total_count\n",
        "    return avg_loss, accuracy"
      ],
      "metadata": {
        "id": "d_B4y79RZpfv"
      },
      "execution_count": 111,
      "outputs": []
    },
    {
      "cell_type": "code",
      "source": [
        "n_epochs = 5\n",
        "for epoch in range(1, n_epochs+1):\n",
        "    train_loss, train_acc = train_epoch(model, train_loader, optimizer, criterion)\n",
        "    val_loss,   val_acc   = eval_epoch(model, val_loader,   criterion)\n",
        "    print(f'Epoch {epoch} | '\n",
        "          f'train loss {train_loss:.3f}, acc {train_acc:.3f} | '\n",
        "          f' val loss {val_loss:.3f}, acc {val_acc:.3f}')"
      ],
      "metadata": {
        "colab": {
          "base_uri": "https://localhost:8080/"
        },
        "id": "rTI25fS4Zph_",
        "outputId": "12bf8cd4-e1e5-490a-9881-45e9a9c515b7"
      },
      "execution_count": 112,
      "outputs": [
        {
          "output_type": "stream",
          "name": "stdout",
          "text": [
            "Epoch 1 | train loss 1.108, acc 0.528 |  val loss 0.929, acc 0.623\n",
            "Epoch 2 | train loss 0.830, acc 0.670 |  val loss 0.730, acc 0.717\n",
            "Epoch 3 | train loss 0.617, acc 0.764 |  val loss 0.586, acc 0.772\n",
            "Epoch 4 | train loss 0.475, acc 0.820 |  val loss 0.492, acc 0.812\n",
            "Epoch 5 | train loss 0.378, acc 0.857 |  val loss 0.453, acc 0.834\n"
          ]
        }
      ]
    },
    {
      "cell_type": "code",
      "source": [
        "test_loss, test_acc = eval_epoch(model, test_loader, criterion)\n",
        "print(f'Test loss: {test_loss:.3f} | Test accuracy: {test_acc:.3f}')"
      ],
      "metadata": {
        "colab": {
          "base_uri": "https://localhost:8080/"
        },
        "id": "Wd5Gs5IpZpke",
        "outputId": "df257ce2-2c43-423b-fd5e-6cf71ec6d03e"
      },
      "execution_count": 113,
      "outputs": [
        {
          "output_type": "stream",
          "name": "stdout",
          "text": [
            "Test loss: 0.455 | Test accuracy: 0.836\n"
          ]
        }
      ]
    },
    {
      "cell_type": "code",
      "source": [
        "from sklearn.metrics import classification_report, confusion_matrix\n",
        "\n",
        "all_preds = []\n",
        "all_labels = []\n",
        "model.eval()\n",
        "with torch.no_grad():\n",
        "    for input_ids, labels in test_loader:\n",
        "        input_ids = input_ids.to(device)\n",
        "        logits, _  = model(input_ids)\n",
        "        preds = logits.argmax(dim=1).cpu().tolist()\n",
        "        all_preds.extend(preds)\n",
        "        all_labels.extend(labels.tolist())\n",
        "\n",
        "# map back to label names\n",
        "idx2label = {v:k for k,v in label2idx.items()}\n",
        "y_true = [idx2label[i] for i in all_labels]\n",
        "y_pred = [idx2label[i] for i in all_preds]\n",
        "\n",
        "print(classification_report(y_true, y_pred, digits=4))\n",
        "print(\"Confusion matrix:\\n\", confusion_matrix(y_true, y_pred))"
      ],
      "metadata": {
        "colab": {
          "base_uri": "https://localhost:8080/"
        },
        "id": "vNWEME_6qIa1",
        "outputId": "2d715141-0d8a-42d5-edbc-273e0e26c049"
      },
      "execution_count": 114,
      "outputs": [
        {
          "output_type": "stream",
          "name": "stdout",
          "text": [
            "              precision    recall  f1-score   support\n",
            "\n",
            "  Irrelevant     0.8256    0.7868    0.8057      2575\n",
            "    Negative     0.8187    0.8958    0.8555      4472\n",
            "     Neutral     0.8961    0.7714    0.8291      3622\n",
            "    Positive     0.8185    0.8589    0.8382      4131\n",
            "\n",
            "    accuracy                         0.8361     14800\n",
            "   macro avg     0.8397    0.8282    0.8321     14800\n",
            "weighted avg     0.8388    0.8361    0.8355     14800\n",
            "\n",
            "Confusion matrix:\n",
            " [[2026  224  101  224]\n",
            " [ 109 4006  103  254]\n",
            " [ 166  353 2794  309]\n",
            " [ 153  310  120 3548]]\n"
          ]
        }
      ]
    },
    {
      "cell_type": "code",
      "source": [
        "import torch.nn.functional as F\n",
        "def infer_tweet(text):\n",
        "    model.eval()\n",
        "    # 1) clean & tokenize\n",
        "    cleaned = clean(text)\n",
        "    tokens  = tokenize(cleaned)\n",
        "\n",
        "    # 2) encode & pad to max_len\n",
        "    ids     = encode_and_pad(tokens)           # list of length max_len\n",
        "    tensor  = torch.tensor([ids], dtype=torch.long).to(device)  # [1, T]\n",
        "\n",
        "    # 3) forward\n",
        "    with torch.no_grad():\n",
        "        logits, attn = model(tensor)           # logits: [1, C], attn: [1, T]\n",
        "        probs = F.softmax(logits, dim=1).cpu().squeeze(0).tolist()\n",
        "        pred_idx = int(torch.argmax(logits, dim=1).cpu().item())\n",
        "\n",
        "    # 4) map back to label name\n",
        "    pred_label = idx2label[pred_idx]\n",
        "\n",
        "    # 5) cut attention to length of tokens\n",
        "    attn_scores = attn.squeeze(0).cpu().tolist()[:len(tokens)]\n",
        "\n",
        "    return {\n",
        "        'original_text': text,\n",
        "        'cleaned_text' : cleaned,\n",
        "        'tokens'       : tokens,\n",
        "        'pred_label'   : pred_label,\n",
        "        'probs'        : { idx2label[i]: p for i,p in enumerate(probs) },\n",
        "        'attn_scores'  : attn_scores\n",
        "    }"
      ],
      "metadata": {
        "id": "oN7mT4-SqIdB"
      },
      "execution_count": 115,
      "outputs": []
    },
    {
      "cell_type": "code",
      "source": [
        "tweet = \"I am really excited about this competition and hope to success\"\n",
        "res = infer_tweet(tweet)"
      ],
      "metadata": {
        "id": "78nYLQj0qIeQ"
      },
      "execution_count": 116,
      "outputs": []
    },
    {
      "cell_type": "code",
      "source": [
        "print(f\"\\nRAW TWEET:    {res['original_text']}\")\n",
        "print(f\"CLEANED:      {res['cleaned_text']}\")\n",
        "print(f\"PREDICTION:   {res['pred_label']}  (probs: {res['probs']})\")\n",
        "print(\"\\nAttention:\")\n",
        "for tok, score in zip(res['tokens'], res['attn_scores']):\n",
        "    print(f\"  {tok:>12} : {score:.3f}\")"
      ],
      "metadata": {
        "colab": {
          "base_uri": "https://localhost:8080/"
        },
        "id": "FgIWJWz6rT7p",
        "outputId": "52dbd9d2-d667-4911-8c2b-acbba09bd111"
      },
      "execution_count": 117,
      "outputs": [
        {
          "output_type": "stream",
          "name": "stdout",
          "text": [
            "\n",
            "RAW TWEET:    I am really excited about this competition and hope to success\n",
            "CLEANED:      i am really excited about this competition and hope to success\n",
            "PREDICTION:   Positive  (probs: {'Negative': 0.26906195282936096, 'Neutral': 0.006114725023508072, 'Positive': 0.6784508228302002, 'Irrelevant': 0.046372465789318085})\n",
            "\n",
            "Attention:\n",
            "             i : 0.000\n",
            "            am : 0.002\n",
            "        really : 0.003\n",
            "       excited : 0.372\n",
            "         about : 0.012\n",
            "          this : 0.014\n",
            "   competition : 0.241\n",
            "           and : 0.027\n",
            "          hope : 0.305\n",
            "            to : 0.003\n",
            "       success : 0.021\n"
          ]
        }
      ]
    },
    {
      "cell_type": "code",
      "source": [
        "tweet = \"it is rude to talk with your mom like this , you have to show more respect\"\n",
        "res = infer_tweet(tweet)"
      ],
      "metadata": {
        "id": "ROKfNpvFreLA"
      },
      "execution_count": 118,
      "outputs": []
    },
    {
      "cell_type": "code",
      "source": [
        "print(f\"\\nRAW TWEET:    {res['original_text']}\")\n",
        "print(f\"CLEANED:      {res['cleaned_text']}\")\n",
        "print(f\"PREDICTION:   {res['pred_label']}  (probs: {res['probs']})\")\n",
        "print(\"\\nAttention:\")\n",
        "for tok, score in zip(res['tokens'], res['attn_scores']):\n",
        "    print(f\"  {tok:>12} : {score:.3f}\")"
      ],
      "metadata": {
        "colab": {
          "base_uri": "https://localhost:8080/"
        },
        "id": "zbgwQBQxreOW",
        "outputId": "aeb9593e-e285-4a62-ec54-99e6f815c9de"
      },
      "execution_count": 119,
      "outputs": [
        {
          "output_type": "stream",
          "name": "stdout",
          "text": [
            "\n",
            "RAW TWEET:    it is rude to talk with your mom like this , you have to show more respect\n",
            "CLEANED:      it is rude to talk with your mom like this you have to show more respect\n",
            "PREDICTION:   Neutral  (probs: {'Negative': 0.010749028995633125, 'Neutral': 0.5673827528953552, 'Positive': 0.40572792291641235, 'Irrelevant': 0.016140274703502655})\n",
            "\n",
            "Attention:\n",
            "            it : 0.023\n",
            "            is : 0.016\n",
            "          rude : 0.009\n",
            "            to : 0.008\n",
            "          talk : 0.036\n",
            "          with : 0.004\n",
            "          your : 0.002\n",
            "           mom : 0.005\n",
            "          like : 0.005\n",
            "          this : 0.007\n",
            "           you : 0.022\n",
            "          have : 0.071\n",
            "            to : 0.013\n",
            "          show : 0.013\n",
            "          more : 0.065\n",
            "       respect : 0.700\n"
          ]
        }
      ]
    },
    {
      "cell_type": "code",
      "source": [
        "tweet = \"you are too rude and difficult to talk with you\"\n",
        "res = infer_tweet(tweet)"
      ],
      "metadata": {
        "id": "wZYRqZZ6reZG"
      },
      "execution_count": 122,
      "outputs": []
    },
    {
      "cell_type": "code",
      "source": [
        "print(f\"\\nRAW TWEET:    {res['original_text']}\")\n",
        "print(f\"CLEANED:      {res['cleaned_text']}\")\n",
        "print(f\"PREDICTION:   {res['pred_label']}  (probs: {res['probs']})\")\n",
        "print(\"\\nAttention:\")\n",
        "for tok, score in zip(res['tokens'], res['attn_scores']):\n",
        "    print(f\"  {tok:>12} : {score:.3f}\")"
      ],
      "metadata": {
        "colab": {
          "base_uri": "https://localhost:8080/"
        },
        "id": "28sgqCqjrT93",
        "outputId": "3da29260-cc4c-46a1-d39c-208cc1f91d39"
      },
      "execution_count": 123,
      "outputs": [
        {
          "output_type": "stream",
          "name": "stdout",
          "text": [
            "\n",
            "RAW TWEET:    you are too rude and difficult to talk with you\n",
            "CLEANED:      you are too rude and difficult to talk with you\n",
            "PREDICTION:   Irrelevant  (probs: {'Negative': 0.02282084710896015, 'Neutral': 0.008260281756520271, 'Positive': 0.06202007085084915, 'Irrelevant': 0.9068987965583801})\n",
            "\n",
            "Attention:\n",
            "           you : 0.004\n",
            "           are : 0.010\n",
            "           too : 0.044\n",
            "          rude : 0.146\n",
            "           and : 0.020\n",
            "     difficult : 0.659\n",
            "            to : 0.019\n",
            "          talk : 0.086\n",
            "          with : 0.007\n",
            "           you : 0.005\n"
          ]
        }
      ]
    },
    {
      "cell_type": "code",
      "source": [],
      "metadata": {
        "id": "YhBjVg-lrT_l"
      },
      "execution_count": null,
      "outputs": []
    },
    {
      "cell_type": "code",
      "source": [],
      "metadata": {
        "id": "uz3Cs964rUDC"
      },
      "execution_count": null,
      "outputs": []
    }
  ]
}